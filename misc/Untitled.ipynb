{
 "cells": [
  {
   "cell_type": "code",
   "execution_count": 1,
   "id": "7ec3f58e-4f71-4861-aa00-8db103d684e2",
   "metadata": {
    "tags": []
   },
   "outputs": [
    {
     "name": "stdout",
     "output_type": "stream",
     "text": [
      "/home/ec2-user/SageMaker\n"
     ]
    }
   ],
   "source": [
    "!pwd"
   ]
  },
  {
   "cell_type": "code",
   "execution_count": 7,
   "id": "70908193-1d17-4d59-a666-c7a8377c97c6",
   "metadata": {
    "tags": []
   },
   "outputs": [
    {
     "name": "stdout",
     "output_type": "stream",
     "text": [
      "{\n",
      "    \"StackId\": \"arn:aws:cloudformation:eu-west-1:905418043174:stack/intern-experimentation-stack/f2431b90-3917-11ef-a2fb-0ed97a3e4521\"\n",
      "}\n"
     ]
    }
   ],
   "source": [
    "!aws cloudformation create-stack --stack-name intern-experimentation-stack --template-body file://sagemaker-processing-job.yaml --capabilities CAPABILITY_NAMED_IAM\n"
   ]
  },
  {
   "cell_type": "code",
   "execution_count": 3,
   "id": "7cb18efd-967c-40d0-9e6c-70a14b968ad3",
   "metadata": {
    "tags": []
   },
   "outputs": [
    {
     "name": "stdout",
     "output_type": "stream",
     "text": [
      "\n",
      "An error occurred (ValidationError) when calling the UpdateStack operation: Stack:arn:aws:cloudformation:eu-west-1:905418043174:stack/intern-experimentation-stack/b2aea0e0-3876-11ef-8c2b-0a1ae26c0f0d is in ROLLBACK_FAILED state and can not be updated.\n"
     ]
    }
   ],
   "source": [
    "!aws cloudformation update-stack --stack-name intern-experimentation-stack --template-body file://sagemaker-processing-job.yaml --capabilities CAPABILITY_NAMED_IAM\n"
   ]
  },
  {
   "cell_type": "code",
   "execution_count": 5,
   "id": "41063493-f9f6-42b8-b453-0b768b877ef5",
   "metadata": {
    "tags": []
   },
   "outputs": [],
   "source": [
    "!aws cloudformation delete-stack --stack-name intern-experimentation-stack"
   ]
  },
  {
   "cell_type": "code",
   "execution_count": 1,
   "id": "0a55e2c8-c0ef-48a9-ba2f-54fcce05ed3c",
   "metadata": {
    "tags": []
   },
   "outputs": [
    {
     "name": "stdout",
     "output_type": "stream",
     "text": [
      "{\n",
      "    \"StackId\": \"arn:aws:cloudformation:eu-west-1:905418043174:stack/InternFoodDeliveryExperimentationStack/37ae1310-3aa3-11ef-84c8-061daea274dd\"\n",
      "}\n"
     ]
    }
   ],
   "source": [
    "!aws cloudformation create-stack --stack-name InternFoodDeliveryExperimentationStack --template-body file://sagemaker-processing-job.yaml --capabilities CAPABILITY_NAMED_IAM\n"
   ]
  },
  {
   "cell_type": "code",
   "execution_count": 6,
   "id": "20e09f5f-2fde-4a66-9ff0-a88e7aaf4252",
   "metadata": {},
   "outputs": [],
   "source": [
    "!aws cloudformation delete-stack --stack-name intern-experiment-stack"
   ]
  },
  {
   "cell_type": "code",
   "execution_count": 2,
   "id": "1611cfaf-e84f-4f19-9256-a8648d7baf1f",
   "metadata": {
    "tags": []
   },
   "outputs": [
    {
     "name": "stdout",
     "output_type": "stream",
     "text": [
      "{\n",
      "    \"Parameters\": [],\n",
      "    \"Description\": \"Sets up a SageMaker processing job using ECR image and stores the results locally\",\n",
      "    \"Capabilities\": [\n",
      "        \"CAPABILITY_IAM\"\n",
      "    ],\n",
      "    \"CapabilitiesReason\": \"The following resource(s) require capabilities: [AWS::IAM::Role]\"\n",
      "}\n"
     ]
    }
   ],
   "source": [
    "!aws cloudformation validate-template --template-body file://sagemaker-processing-job.yaml\n"
   ]
  },
  {
   "cell_type": "code",
   "execution_count": 4,
   "id": "407cc23c-ffd2-4a76-8b55-12d20c457192",
   "metadata": {
    "jupyter": {
     "source_hidden": true
    },
    "tags": []
   },
   "outputs": [
    {
     "name": "stdout",
     "output_type": "stream",
     "text": [
      "\n",
      "An error occurred (ValidationError) when calling the UpdateStack operation: Stack:arn:aws:cloudformation:eu-west-1:905418043174:stack/InternFoodDeliveryExperimentationStack/1faa4140-39da-11ef-b2a4-02b96faaa08d is in ROLLBACK_COMPLETE state and can not be updated.\n"
     ]
    }
   ],
   "source": [
    "!aws cloudformation update-stack --stack-name InternFoodDeliveryExperimentationStack --template-body file://sagemaker-processing-job.yaml --capabilities CAPABILITY_NAMED_IAM\n"
   ]
  },
  {
   "cell_type": "code",
   "execution_count": 4,
   "id": "5f4b0817-f47b-40f4-8652-74facb288c77",
   "metadata": {
    "tags": []
   },
   "outputs": [
    {
     "name": "stdout",
     "output_type": "stream",
     "text": [
      "{\n",
      "    \"ProcessingJobArn\": \"arn:aws:sagemaker:eu-west-1:905418043174:processing-job/intern-Delivery-food-processing-job\"\n",
      "}\n"
     ]
    }
   ],
   "source": [
    "!aws sagemaker create-processing-job --cli-input-json file://foodDelivery-processing-job-config.json\n"
   ]
  },
  {
   "cell_type": "code",
   "execution_count": 5,
   "id": "312be9f6-96ee-4133-9063-69d4b7db100b",
   "metadata": {
    "tags": []
   },
   "outputs": [
    {
     "name": "stdout",
     "output_type": "stream",
     "text": [
      "{\n",
      "    \"ProcessingOutputConfig\": {\n",
      "        \"Outputs\": [\n",
      "            {\n",
      "                \"OutputName\": \"output-1\",\n",
      "                \"S3Output\": {\n",
      "                    \"S3Uri\": \"s3://interns-aws-experimentation-bucket/results/\",\n",
      "                    \"LocalPath\": \"/opt/ml/processing/foodDelivery/results/\",\n",
      "                    \"S3UploadMode\": \"EndOfJob\"\n",
      "                },\n",
      "                \"AppManaged\": false\n",
      "            }\n",
      "        ]\n",
      "    },\n",
      "    \"ProcessingJobName\": \"intern-Delivery-food-processing-job\",\n",
      "    \"ProcessingResources\": {\n",
      "        \"ClusterConfig\": {\n",
      "            \"InstanceCount\": 1,\n",
      "            \"InstanceType\": \"ml.m5.xlarge\",\n",
      "            \"VolumeSizeInGB\": 30\n",
      "        }\n",
      "    },\n",
      "    \"StoppingCondition\": {\n",
      "        \"MaxRuntimeInSeconds\": 86400\n",
      "    },\n",
      "    \"AppSpecification\": {\n",
      "        \"ImageUri\": \"905418043174.dkr.ecr.eu-west-1.amazonaws.com/food-delivery:latest\",\n",
      "        \"ContainerEntrypoint\": [\n",
      "            \"bash\",\n",
      "            \"-c\",\n",
      "            \"pip install --no-cache-dir -r /opt/ml/processing/foodDelivery/requirements.txt && python /opt/ml/processing/foodDelivery/scripts/delivery_inference.py\"\n",
      "        ]\n",
      "    },\n",
      "    \"RoleArn\": \"arn:aws:iam::905418043174:role/Sagemaker-Endpoint-Creation-Role\",\n",
      "    \"ProcessingJobArn\": \"arn:aws:sagemaker:eu-west-1:905418043174:processing-job/intern-Delivery-food-processing-job\",\n",
      "    \"ProcessingJobStatus\": \"Completed\",\n",
      "    \"ProcessingEndTime\": 1720436626.0,\n",
      "    \"ProcessingStartTime\": 1720436553.0,\n",
      "    \"LastModifiedTime\": 1720436650.479,\n",
      "    \"CreationTime\": 1720436499.094\n",
      "}\n"
     ]
    }
   ],
   "source": [
    "!aws sagemaker describe-processing-job --processing-job-name intern-Delivery-food-processing-job\n"
   ]
  },
  {
   "cell_type": "code",
   "execution_count": null,
   "id": "50e651ba-2dd4-402a-a1d7-6200f8d62b5f",
   "metadata": {},
   "outputs": [],
   "source": []
  }
 ],
 "metadata": {
  "kernelspec": {
   "display_name": "conda_python3",
   "language": "python",
   "name": "conda_python3"
  },
  "language_info": {
   "codemirror_mode": {
    "name": "ipython",
    "version": 3
   },
   "file_extension": ".py",
   "mimetype": "text/x-python",
   "name": "python",
   "nbconvert_exporter": "python",
   "pygments_lexer": "ipython3",
   "version": "3.10.14"
  }
 },
 "nbformat": 4,
 "nbformat_minor": 5
}
